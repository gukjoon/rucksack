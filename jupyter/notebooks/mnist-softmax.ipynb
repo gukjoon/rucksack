{
 "cells": [
  {
   "cell_type": "code",
   "execution_count": 3,
   "metadata": {
    "collapsed": true
   },
   "outputs": [],
   "source": [
    "import numpy as np\n",
    "import os\n",
    "import urllib\n",
    "import gzip\n",
    "import struct"
   ]
  },
  {
   "cell_type": "code",
   "execution_count": 4,
   "metadata": {
    "collapsed": true
   },
   "outputs": [],
   "source": [
    "def download_data(url, force_download=True): \n",
    "    fname = url.split(\"/\")[-1]\n",
    "    if force_download or not os.path.exists(fname):\n",
    "        urllib.urlretrieve(url, fname)\n",
    "    return fname\n",
    "\n",
    "def read_data(label_url, image_url):\n",
    "    with gzip.open(download_data(label_url)) as flbl:\n",
    "        magic, num = struct.unpack(\">II\", flbl.read(8))\n",
    "        label = np.fromstring(flbl.read(), dtype=np.int8)\n",
    "    with gzip.open(download_data(image_url), 'rb') as fimg:\n",
    "        magic, num, rows, cols = struct.unpack(\">IIII\", fimg.read(16))\n",
    "        image = np.fromstring(fimg.read(), dtype=np.uint8).reshape(len(label), rows, cols)\n",
    "    return (label, image)"
   ]
  },
  {
   "cell_type": "code",
   "execution_count": 5,
   "metadata": {
    "collapsed": true
   },
   "outputs": [],
   "source": [
    "path='http://yann.lecun.com/exdb/mnist/'\n",
    "(train_lbl, train_img) = read_data(\n",
    "    path+'train-labels-idx1-ubyte.gz', path+'train-images-idx3-ubyte.gz')\n",
    "(val_lbl, val_img) = read_data(\n",
    "    path+'t10k-labels-idx1-ubyte.gz', path+'t10k-images-idx3-ubyte.gz')"
   ]
  },
  {
   "cell_type": "code",
   "execution_count": 6,
   "metadata": {},
   "outputs": [
    {
     "data": {
      "image/png": "[encoded data removed]",
      "text/plain": [
       "<matplotlib.figure.Figure at 0x7fd295755590>"
      ]
     },
     "metadata": {},
     "output_type": "display_data"
    },
    {
     "name": "stdout",
     "output_type": "stream",
     "text": [
      "label: [5 0 4 1 9 2 1 3 1 4]\n"
     ]
    }
   ],
   "source": [
    "%matplotlib inline\n",
    "import matplotlib.pyplot as plt\n",
    "for i in range(10):\n",
    "    plt.subplot(1,10,i+1)\n",
    "    plt.imshow(train_img[i], cmap='Greys_r')\n",
    "    plt.axis('off')\n",
    "plt.show()\n",
    "print('label: %s' % (train_lbl[0:10],))"
   ]
  },
  {
   "cell_type": "code",
   "execution_count": 8,
   "metadata": {
    "collapsed": true
   },
   "outputs": [],
   "source": [
    "import mxnet as mx\n",
    "\n",
    "def to4d(img):\n",
    "    return img.reshape(img.shape[0], 1, 28, 28).astype(np.float32)/255\n",
    "\n",
    "batch_size = 100\n",
    "train_iter = mx.io.NDArrayIter(to4d(train_img), train_lbl, batch_size, shuffle=True)\n",
    "val_iter = mx.io.NDArrayIter(to4d(val_img), val_lbl, batch_size)"
   ]
  },
  {
   "cell_type": "code",
   "execution_count": 14,
   "metadata": {},
   "outputs": [
    {
     "data": {
      "image/svg+xml": [
       "<?xml version=\"1.0\" encoding=\"UTF-8\" standalone=\"no\"?>\n",
       "<!DOCTYPE svg PUBLIC \"-//W3C//DTD SVG 1.1//EN\"\n",
       " \"http://www.w3.org/Graphics/SVG/1.1/DTD/svg11.dtd\">\n",
       "<!-- Generated by graphviz version 2.36.0 (20140111.2315)\n",
       " -->\n",
       "<!-- Title: plot Pages: 1 -->\n",
       "<svg width=\"214pt\" height=\"396pt\"\n",
       " viewBox=\"0.00 0.00 214.00 396.00\" xmlns=\"http://www.w3.org/2000/svg\" xmlns:xlink=\"http://www.w3.org/1999/xlink\">\n",
       "<g id=\"graph0\" class=\"graph\" transform=\"scale(1 1) rotate(0) translate(4 392)\">\n",
       "<title>plot</title>\n",
       "<polygon fill=\"white\" stroke=\"none\" points=\"-4,4 -4,-392 210,-392 210,4 -4,4\"/>\n",
       "<!-- data -->\n",
       "<g id=\"node1\" class=\"node\"><title>data</title>\n",
       "<ellipse fill=\"#8dd3c7\" stroke=\"black\" cx=\"47\" cy=\"-29\" rx=\"47\" ry=\"29\"/>\n",
       "<text text-anchor=\"middle\" x=\"47\" y=\"-25.3\" font-family=\"Times,serif\" font-size=\"14.00\">data</text>\n",
       "</g>\n",
       "<!-- flatten3 -->\n",
       "<g id=\"node2\" class=\"node\"><title>flatten3</title>\n",
       "<polygon fill=\"#fdb462\" stroke=\"black\" points=\"94,-168 -7.10543e-15,-168 -7.10543e-15,-110 94,-110 94,-168\"/>\n",
       "<text text-anchor=\"middle\" x=\"47\" y=\"-135.3\" font-family=\"Times,serif\" font-size=\"14.00\">flatten3</text>\n",
       "</g>\n",
       "<!-- flatten3&#45;&gt;data -->\n",
       "<g id=\"edge1\" class=\"edge\"><title>flatten3&#45;&gt;data</title>\n",
       "<path fill=\"none\" stroke=\"black\" d=\"M47,-99.8131C47,-86.1516 47,-71.0092 47,-58.3283\"/>\n",
       "<polygon fill=\"black\" stroke=\"black\" points=\"47,-109.906 42.5001,-99.9062 47,-104.906 47.0001,-99.9062 47.0001,-99.9062 47.0001,-99.9062 47,-104.906 51.5001,-99.9062 47,-109.906 47,-109.906\"/>\n",
       "<text text-anchor=\"middle\" x=\"78\" y=\"-80.3\" font-family=\"Times,serif\" font-size=\"14.00\">1x28x28</text>\n",
       "</g>\n",
       "<!-- fc3 -->\n",
       "<g id=\"node3\" class=\"node\"><title>fc3</title>\n",
       "<polygon fill=\"#fb8072\" stroke=\"black\" points=\"94,-278 -7.10543e-15,-278 -7.10543e-15,-220 94,-220 94,-278\"/>\n",
       "<text text-anchor=\"middle\" x=\"47\" y=\"-252.8\" font-family=\"Times,serif\" font-size=\"14.00\">FullyConnected</text>\n",
       "<text text-anchor=\"middle\" x=\"47\" y=\"-237.8\" font-family=\"Times,serif\" font-size=\"14.00\">10</text>\n",
       "</g>\n",
       "<!-- fc3&#45;&gt;flatten3 -->\n",
       "<g id=\"edge2\" class=\"edge\"><title>fc3&#45;&gt;flatten3</title>\n",
       "<path fill=\"none\" stroke=\"black\" d=\"M47,-209.813C47,-196.152 47,-181.009 47,-168.328\"/>\n",
       "<polygon fill=\"black\" stroke=\"black\" points=\"47,-219.906 42.5001,-209.906 47,-214.906 47.0001,-209.906 47.0001,-209.906 47.0001,-209.906 47,-214.906 51.5001,-209.906 47,-219.906 47,-219.906\"/>\n",
       "<text text-anchor=\"middle\" x=\"61\" y=\"-190.3\" font-family=\"Times,serif\" font-size=\"14.00\">784</text>\n",
       "</g>\n",
       "<!-- softmax_label -->\n",
       "<g id=\"node4\" class=\"node\"><title>softmax_label</title>\n",
       "<ellipse fill=\"#8dd3c7\" stroke=\"black\" cx=\"159\" cy=\"-249\" rx=\"47\" ry=\"29\"/>\n",
       "<text text-anchor=\"middle\" x=\"159\" y=\"-245.3\" font-family=\"Times,serif\" font-size=\"14.00\">softmax_label</text>\n",
       "</g>\n",
       "<!-- softmax -->\n",
       "<g id=\"node5\" class=\"node\"><title>softmax</title>\n",
       "<polygon fill=\"#fccde5\" stroke=\"black\" points=\"169,-388 75,-388 75,-330 169,-330 169,-388\"/>\n",
       "<text text-anchor=\"middle\" x=\"122\" y=\"-355.3\" font-family=\"Times,serif\" font-size=\"14.00\">softmax</text>\n",
       "</g>\n",
       "<!-- softmax&#45;&gt;fc3 -->\n",
       "<g id=\"edge3\" class=\"edge\"><title>softmax&#45;&gt;fc3</title>\n",
       "<path fill=\"none\" stroke=\"black\" d=\"M96.5926,-321.413C86.8216,-307.343 75.824,-291.506 66.6724,-278.328\"/>\n",
       "<polygon fill=\"black\" stroke=\"black\" points=\"102.49,-329.906 93.0902,-324.259 99.6384,-325.799 96.7864,-321.692 96.7864,-321.692 96.7864,-321.692 99.6384,-325.799 100.483,-319.126 102.49,-329.906 102.49,-329.906\"/>\n",
       "<text text-anchor=\"middle\" x=\"98.5\" y=\"-300.3\" font-family=\"Times,serif\" font-size=\"14.00\">10</text>\n",
       "</g>\n",
       "<!-- softmax&#45;&gt;softmax_label -->\n",
       "<g id=\"edge4\" class=\"edge\"><title>softmax&#45;&gt;softmax_label</title>\n",
       "<path fill=\"none\" stroke=\"black\" d=\"M134.999,-320.057C139.794,-306.062 145.13,-290.485 149.551,-277.579\"/>\n",
       "<polygon fill=\"black\" stroke=\"black\" points=\"131.625,-329.906 130.609,-318.987 133.245,-325.176 134.866,-320.446 134.866,-320.446 134.866,-320.446 133.245,-325.176 139.123,-321.904 131.625,-329.906 131.625,-329.906\"/>\n",
       "</g>\n",
       "</g>\n",
       "</svg>\n"
      ],
      "text/plain": [
       "<graphviz.dot.Digraph at 0x7fd2867f5c90>"
      ]
     },
     "execution_count": 14,
     "metadata": {},
     "output_type": "execute_result"
    }
   ],
   "source": [
    "# Create a place holder variable for the input data\n",
    "data = mx.sym.Variable('data')\n",
    "# Flatten the data from 4-D shape (batch_size, num_channel, width, height) \n",
    "# into 2-D (batch_size, num_channel*width*height)\n",
    "data = mx.sym.Flatten(data=data)\n",
    "\n",
    "# The thrid fully-connected layer, note that the hidden size should be 10, which is the number of unique digits\n",
    "fc1  = mx.sym.FullyConnected(data=data, name='fc3', num_hidden=10)\n",
    "# The softmax and loss layer\n",
    "mlp  = mx.sym.SoftmaxOutput(data=fc1, name='softmax')\n",
    "\n",
    "# We visualize the network structure with output size (the batch_size is ignored.)\n",
    "shape = {\"data\" : (batch_size, 1, 28, 28)}\n",
    "mx.viz.plot_network(symbol=mlp, shape=shape)"
   ]
  },
  {
   "cell_type": "code",
   "execution_count": 15,
   "metadata": {},
   "outputs": [
    {
     "name": "stderr",
     "output_type": "stream",
     "text": [
      "/usr/local/lib/python2.7/dist-packages/ipykernel_launcher.py:8: DeprecationWarning: \u001b[91mmxnet.model.FeedForward has been deprecated. Please use mxnet.mod.Module instead.\u001b[0m\n",
      "  \n",
      "INFO:root:Start training with [cpu(0)]\n",
      "INFO:root:Epoch[0] Batch [200]\tSpeed: 94443.44 samples/sec\tTrain-accuracy=0.839200\n",
      "INFO:root:Epoch[0] Batch [400]\tSpeed: 88855.31 samples/sec\tTrain-accuracy=0.880450\n",
      "INFO:root:Epoch[0] Batch [600]\tSpeed: 97055.77 samples/sec\tTrain-accuracy=0.887950\n",
      "INFO:root:Epoch[0] Resetting Data Iterator\n",
      "INFO:root:Epoch[0] Time cost=0.649\n",
      "INFO:root:Epoch[0] Validation-accuracy=0.903700\n",
      "INFO:root:Epoch[1] Batch [200]\tSpeed: 93671.05 samples/sec\tTrain-accuracy=0.901250\n",
      "INFO:root:Epoch[1] Batch [400]\tSpeed: 97839.68 samples/sec\tTrain-accuracy=0.901250\n",
      "INFO:root:Epoch[1] Batch [600]\tSpeed: 91548.31 samples/sec\tTrain-accuracy=0.900450\n",
      "INFO:root:Epoch[1] Resetting Data Iterator\n",
      "INFO:root:Epoch[1] Time cost=0.648\n",
      "INFO:root:Epoch[1] Validation-accuracy=0.912000\n",
      "INFO:root:Epoch[2] Batch [200]\tSpeed: 98034.41 samples/sec\tTrain-accuracy=0.909650\n",
      "INFO:root:Epoch[2] Batch [400]\tSpeed: 74512.55 samples/sec\tTrain-accuracy=0.907700\n",
      "INFO:root:Epoch[2] Batch [600]\tSpeed: 95446.68 samples/sec\tTrain-accuracy=0.906600\n",
      "INFO:root:Epoch[2] Resetting Data Iterator\n",
      "INFO:root:Epoch[2] Time cost=0.690\n",
      "INFO:root:Epoch[2] Validation-accuracy=0.915700\n",
      "INFO:root:Epoch[3] Batch [200]\tSpeed: 98399.98 samples/sec\tTrain-accuracy=0.913400\n",
      "INFO:root:Epoch[3] Batch [400]\tSpeed: 92370.60 samples/sec\tTrain-accuracy=0.912550\n",
      "INFO:root:Epoch[3] Batch [600]\tSpeed: 85706.75 samples/sec\tTrain-accuracy=0.910350\n",
      "INFO:root:Epoch[3] Resetting Data Iterator\n",
      "INFO:root:Epoch[3] Time cost=0.661\n",
      "INFO:root:Epoch[3] Validation-accuracy=0.917000\n",
      "INFO:root:Epoch[4] Batch [200]\tSpeed: 85637.63 samples/sec\tTrain-accuracy=0.915800\n",
      "INFO:root:Epoch[4] Batch [400]\tSpeed: 96632.82 samples/sec\tTrain-accuracy=0.914700\n",
      "INFO:root:Epoch[4] Batch [600]\tSpeed: 92454.28 samples/sec\tTrain-accuracy=0.912550\n",
      "INFO:root:Epoch[4] Resetting Data Iterator\n",
      "INFO:root:Epoch[4] Time cost=0.664\n",
      "INFO:root:Epoch[4] Validation-accuracy=0.918700\n",
      "INFO:root:Epoch[5] Batch [200]\tSpeed: 95933.83 samples/sec\tTrain-accuracy=0.917350\n",
      "INFO:root:Epoch[5] Batch [400]\tSpeed: 76562.63 samples/sec\tTrain-accuracy=0.916500\n",
      "INFO:root:Epoch[5] Batch [600]\tSpeed: 89738.37 samples/sec\tTrain-accuracy=0.914500\n",
      "INFO:root:Epoch[5] Resetting Data Iterator\n",
      "INFO:root:Epoch[5] Time cost=0.717\n",
      "INFO:root:Epoch[5] Validation-accuracy=0.919800\n",
      "INFO:root:Epoch[6] Batch [200]\tSpeed: 89836.30 samples/sec\tTrain-accuracy=0.919300\n",
      "INFO:root:Epoch[6] Batch [400]\tSpeed: 100348.80 samples/sec\tTrain-accuracy=0.918150\n",
      "INFO:root:Epoch[6] Batch [600]\tSpeed: 86321.11 samples/sec\tTrain-accuracy=0.916300\n",
      "INFO:root:Epoch[6] Resetting Data Iterator\n",
      "INFO:root:Epoch[6] Time cost=0.677\n",
      "INFO:root:Epoch[6] Validation-accuracy=0.920900\n",
      "INFO:root:Epoch[7] Batch [200]\tSpeed: 83562.03 samples/sec\tTrain-accuracy=0.921050\n",
      "INFO:root:Epoch[7] Batch [400]\tSpeed: 78099.38 samples/sec\tTrain-accuracy=0.918850\n",
      "INFO:root:Epoch[7] Batch [600]\tSpeed: 89160.27 samples/sec\tTrain-accuracy=0.917000\n",
      "INFO:root:Epoch[7] Resetting Data Iterator\n",
      "INFO:root:Epoch[7] Time cost=0.726\n",
      "INFO:root:Epoch[7] Validation-accuracy=0.921800\n",
      "INFO:root:Epoch[8] Batch [200]\tSpeed: 95957.76 samples/sec\tTrain-accuracy=0.922000\n",
      "INFO:root:Epoch[8] Batch [400]\tSpeed: 98484.31 samples/sec\tTrain-accuracy=0.919500\n",
      "INFO:root:Epoch[8] Batch [600]\tSpeed: 88528.05 samples/sec\tTrain-accuracy=0.918350\n",
      "INFO:root:Epoch[8] Resetting Data Iterator\n",
      "INFO:root:Epoch[8] Time cost=0.658\n",
      "INFO:root:Epoch[8] Validation-accuracy=0.921900\n",
      "INFO:root:Epoch[9] Batch [200]\tSpeed: 105156.90 samples/sec\tTrain-accuracy=0.922800\n",
      "INFO:root:Epoch[9] Batch [400]\tSpeed: 81337.53 samples/sec\tTrain-accuracy=0.920500\n",
      "INFO:root:Epoch[9] Batch [600]\tSpeed: 74193.32 samples/sec\tTrain-accuracy=0.919350\n",
      "INFO:root:Epoch[9] Resetting Data Iterator\n",
      "INFO:root:Epoch[9] Time cost=0.725\n",
      "INFO:root:Epoch[9] Validation-accuracy=0.922300\n"
     ]
    }
   ],
   "source": [
    "# @@@ AUTOTEST_OUTPUT_IGNORED_CELL\n",
    "import logging\n",
    "logging.getLogger().setLevel(logging.DEBUG)\n",
    "\n",
    "model = mx.model.FeedForward(\n",
    "    symbol = mlp,       # network structure\n",
    "    num_epoch = 10,     # number of data passes for training \n",
    "    learning_rate = 0.1 # learning rate of SGD \n",
    ")\n",
    "model.fit(\n",
    "    X=train_iter,       # training data\n",
    "    eval_data=val_iter, # validation data\n",
    "    batch_end_callback = mx.callback.Speedometer(batch_size, 200) # output progress for each 200 data batches\n",
    ")"
   ]
  }
 ],
 "metadata": {
  "kernelspec": {
   "display_name": "Python 2",
   "language": "python",
   "name": "python2"
  },
  "language_info": {
   "codemirror_mode": {
    "name": "ipython",
    "version": 2
   },
   "file_extension": ".py",
   "mimetype": "text/x-python",
   "name": "python",
   "nbconvert_exporter": "python",
   "pygments_lexer": "ipython2",
   "version": "2.7.6"
  }
 },
 "nbformat": 4,
 "nbformat_minor": 2
}
