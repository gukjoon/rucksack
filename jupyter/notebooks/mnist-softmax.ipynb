{
 "cells": [
  {
   "cell_type": "code",
   "execution_count": 1,
   "metadata": {
    "collapsed": true
   },
   "outputs": [],
   "source": [
    "import numpy as np\n",
    "import os\n",
    "import urllib\n",
    "import gzip\n",
    "import struct"
   ]
  },
  {
   "cell_type": "code",
   "execution_count": 2,
   "metadata": {
    "collapsed": true
   },
   "outputs": [],
   "source": [
    "def download_data(url, force_download=False): \n",
    "    fname = url.split(\"/\")[-1]\n",
    "    if force_download or not os.path.exists(fname):\n",
    "        urllib.urlretrieve(url, fname)\n",
    "    return fname\n",
    "\n",
    "def read_data(label_url, image_url):\n",
    "    with gzip.open(download_data(label_url)) as flbl:\n",
    "        magic, num = struct.unpack(\">II\", flbl.read(8))\n",
    "        label = np.fromstring(flbl.read(), dtype=np.int8)\n",
    "    with gzip.open(download_data(image_url), 'rb') as fimg:\n",
    "        magic, num, rows, cols = struct.unpack(\">IIII\", fimg.read(16))\n",
    "        image = np.fromstring(fimg.read(), dtype=np.uint8).reshape(len(label), rows, cols)\n",
    "    return (label, image)"
   ]
  },
  {
   "cell_type": "code",
   "execution_count": 4,
   "metadata": {
    "collapsed": true
   },
   "outputs": [],
   "source": [
    "path='http://yann.lecun.com/exdb/mnist/'\n",
    "(train_lbl, train_img) = read_data(\n",
    "    path+'train-labels-idx1-ubyte.gz', path+'train-images-idx3-ubyte.gz')\n",
    "(val_lbl, val_img) = read_data(\n",
    "    path+'t10k-labels-idx1-ubyte.gz', path+'t10k-images-idx3-ubyte.gz')"
   ]
  },
  {
   "cell_type": "code",
   "execution_count": 5,
   "metadata": {},
   "outputs": [
    {
     "data": {
      "image/png": "[encoded data removed]",
      "text/plain": [
       "<matplotlib.figure.Figure at 0x7faa7c5eefd0>"
      ]
     },
     "metadata": {},
     "output_type": "display_data"
    },
    {
     "name": "stdout",
     "output_type": "stream",
     "text": [
      "label: [5 0 4 1 9 2 1 3 1 4]\n"
     ]
    }
   ],
   "source": [
    "%matplotlib inline\n",
    "import matplotlib.pyplot as plt\n",
    "for i in range(10):\n",
    "    plt.subplot(1,10,i+1)\n",
    "    plt.imshow(train_img[i], cmap='Greys_r')\n",
    "    plt.axis('off')\n",
    "plt.show()\n",
    "print('label: %s' % (train_lbl[0:10],))"
   ]
  },
  {
   "cell_type": "code",
   "execution_count": 6,
   "metadata": {
    "collapsed": true
   },
   "outputs": [],
   "source": [
    "import mxnet as mx\n",
    "\n",
    "def to4d(img):\n",
    "    return img.reshape(img.shape[0], 1, 28, 28).astype(np.float32)/255\n",
    "\n",
    "batch_size = 100\n",
    "train_iter = mx.io.NDArrayIter(to4d(train_img), train_lbl, batch_size, shuffle=True)\n",
    "val_iter = mx.io.NDArrayIter(to4d(val_img), val_lbl, batch_size)"
   ]
  },
  {
   "cell_type": "code",
   "execution_count": 7,
   "metadata": {},
   "outputs": [
    {
     "data": {
      "image/svg+xml": [
       "<?xml version=\"1.0\" encoding=\"UTF-8\" standalone=\"no\"?>\n",
       "<!DOCTYPE svg PUBLIC \"-//W3C//DTD SVG 1.1//EN\"\n",
       " \"http://www.w3.org/Graphics/SVG/1.1/DTD/svg11.dtd\">\n",
       "<!-- Generated by graphviz version 2.36.0 (20140111.2315)\n",
       " -->\n",
       "<!-- Title: plot Pages: 1 -->\n",
       "<svg width=\"214pt\" height=\"396pt\"\n",
       " viewBox=\"0.00 0.00 214.00 396.00\" xmlns=\"http://www.w3.org/2000/svg\" xmlns:xlink=\"http://www.w3.org/1999/xlink\">\n",
       "<g id=\"graph0\" class=\"graph\" transform=\"scale(1 1) rotate(0) translate(4 392)\">\n",
       "<title>plot</title>\n",
       "<polygon fill=\"white\" stroke=\"none\" points=\"-4,4 -4,-392 210,-392 210,4 -4,4\"/>\n",
       "<!-- data -->\n",
       "<g id=\"node1\" class=\"node\"><title>data</title>\n",
       "<ellipse fill=\"#8dd3c7\" stroke=\"black\" cx=\"47\" cy=\"-29\" rx=\"47\" ry=\"29\"/>\n",
       "<text text-anchor=\"middle\" x=\"47\" y=\"-25.3\" font-family=\"Times,serif\" font-size=\"14.00\">data</text>\n",
       "</g>\n",
       "<!-- flatten0 -->\n",
       "<g id=\"node2\" class=\"node\"><title>flatten0</title>\n",
       "<polygon fill=\"#fdb462\" stroke=\"black\" points=\"94,-168 -7.10543e-15,-168 -7.10543e-15,-110 94,-110 94,-168\"/>\n",
       "<text text-anchor=\"middle\" x=\"47\" y=\"-135.3\" font-family=\"Times,serif\" font-size=\"14.00\">flatten0</text>\n",
       "</g>\n",
       "<!-- flatten0&#45;&gt;data -->\n",
       "<g id=\"edge1\" class=\"edge\"><title>flatten0&#45;&gt;data</title>\n",
       "<path fill=\"none\" stroke=\"black\" d=\"M47,-99.8131C47,-86.1516 47,-71.0092 47,-58.3283\"/>\n",
       "<polygon fill=\"black\" stroke=\"black\" points=\"47,-109.906 42.5001,-99.9062 47,-104.906 47.0001,-99.9062 47.0001,-99.9062 47.0001,-99.9062 47,-104.906 51.5001,-99.9062 47,-109.906 47,-109.906\"/>\n",
       "<text text-anchor=\"middle\" x=\"78\" y=\"-80.3\" font-family=\"Times,serif\" font-size=\"14.00\">1x28x28</text>\n",
       "</g>\n",
       "<!-- fc3 -->\n",
       "<g id=\"node3\" class=\"node\"><title>fc3</title>\n",
       "<polygon fill=\"#fb8072\" stroke=\"black\" points=\"94,-278 -7.10543e-15,-278 -7.10543e-15,-220 94,-220 94,-278\"/>\n",
       "<text text-anchor=\"middle\" x=\"47\" y=\"-252.8\" font-family=\"Times,serif\" font-size=\"14.00\">FullyConnected</text>\n",
       "<text text-anchor=\"middle\" x=\"47\" y=\"-237.8\" font-family=\"Times,serif\" font-size=\"14.00\">10</text>\n",
       "</g>\n",
       "<!-- fc3&#45;&gt;flatten0 -->\n",
       "<g id=\"edge2\" class=\"edge\"><title>fc3&#45;&gt;flatten0</title>\n",
       "<path fill=\"none\" stroke=\"black\" d=\"M47,-209.813C47,-196.152 47,-181.009 47,-168.328\"/>\n",
       "<polygon fill=\"black\" stroke=\"black\" points=\"47,-219.906 42.5001,-209.906 47,-214.906 47.0001,-209.906 47.0001,-209.906 47.0001,-209.906 47,-214.906 51.5001,-209.906 47,-219.906 47,-219.906\"/>\n",
       "<text text-anchor=\"middle\" x=\"61\" y=\"-190.3\" font-family=\"Times,serif\" font-size=\"14.00\">784</text>\n",
       "</g>\n",
       "<!-- softmax_label -->\n",
       "<g id=\"node4\" class=\"node\"><title>softmax_label</title>\n",
       "<ellipse fill=\"#8dd3c7\" stroke=\"black\" cx=\"159\" cy=\"-249\" rx=\"47\" ry=\"29\"/>\n",
       "<text text-anchor=\"middle\" x=\"159\" y=\"-245.3\" font-family=\"Times,serif\" font-size=\"14.00\">softmax_label</text>\n",
       "</g>\n",
       "<!-- softmax -->\n",
       "<g id=\"node5\" class=\"node\"><title>softmax</title>\n",
       "<polygon fill=\"#fccde5\" stroke=\"black\" points=\"169,-388 75,-388 75,-330 169,-330 169,-388\"/>\n",
       "<text text-anchor=\"middle\" x=\"122\" y=\"-355.3\" font-family=\"Times,serif\" font-size=\"14.00\">softmax</text>\n",
       "</g>\n",
       "<!-- softmax&#45;&gt;fc3 -->\n",
       "<g id=\"edge3\" class=\"edge\"><title>softmax&#45;&gt;fc3</title>\n",
       "<path fill=\"none\" stroke=\"black\" d=\"M96.5926,-321.413C86.8216,-307.343 75.824,-291.506 66.6724,-278.328\"/>\n",
       "<polygon fill=\"black\" stroke=\"black\" points=\"102.49,-329.906 93.0902,-324.259 99.6384,-325.799 96.7864,-321.692 96.7864,-321.692 96.7864,-321.692 99.6384,-325.799 100.483,-319.126 102.49,-329.906 102.49,-329.906\"/>\n",
       "<text text-anchor=\"middle\" x=\"98.5\" y=\"-300.3\" font-family=\"Times,serif\" font-size=\"14.00\">10</text>\n",
       "</g>\n",
       "<!-- softmax&#45;&gt;softmax_label -->\n",
       "<g id=\"edge4\" class=\"edge\"><title>softmax&#45;&gt;softmax_label</title>\n",
       "<path fill=\"none\" stroke=\"black\" d=\"M134.999,-320.057C139.794,-306.062 145.13,-290.485 149.551,-277.579\"/>\n",
       "<polygon fill=\"black\" stroke=\"black\" points=\"131.625,-329.906 130.609,-318.987 133.245,-325.176 134.866,-320.446 134.866,-320.446 134.866,-320.446 133.245,-325.176 139.123,-321.904 131.625,-329.906 131.625,-329.906\"/>\n",
       "</g>\n",
       "</g>\n",
       "</svg>\n"
      ],
      "text/plain": [
       "<graphviz.dot.Digraph at 0x7faa65c9be50>"
      ]
     },
     "execution_count": 7,
     "metadata": {},
     "output_type": "execute_result"
    }
   ],
   "source": [
    "# Create a place holder variable for the input data\n",
    "data = mx.sym.Variable('data')\n",
    "# Flatten the data from 4-D shape (batch_size, num_channel, width, height) \n",
    "# into 2-D (batch_size, num_channel*width*height)\n",
    "data = mx.sym.Flatten(data=data)\n",
    "\n",
    "# The thrid fully-connected layer, note that the hidden size should be 10, which is the number of unique digits\n",
    "fc1  = mx.sym.FullyConnected(data=data, name='fc3', num_hidden=10)\n",
    "# The softmax and loss layer\n",
    "mlp  = mx.sym.SoftmaxOutput(data=fc1, name='softmax')\n",
    "\n",
    "# We visualize the network structure with output size (the batch_size is ignored.)\n",
    "shape = {\"data\" : (batch_size, 1, 28, 28)}\n",
    "mx.viz.plot_network(symbol=mlp, shape=shape)"
   ]
  },
  {
   "cell_type": "code",
   "execution_count": 8,
   "metadata": {
    "scrolled": true
   },
   "outputs": [
    {
     "name": "stderr",
     "output_type": "stream",
     "text": [
      "/usr/local/lib/python2.7/dist-packages/ipykernel_launcher.py:8: DeprecationWarning: \u001b[91mmxnet.model.FeedForward has been deprecated. Please use mxnet.mod.Module instead.\u001b[0m\n",
      "  \n",
      "/mxnet/python/mxnet/model.py:516: DeprecationWarning: \u001b[91mCalling initializer with init(str, NDArray) has been deprecated.please use init(mx.init.InitDesc(...), NDArray) instead.\u001b[0m\n",
      "  self.initializer(k, v)\n",
      "INFO:root:Start training with [cpu(0)]\n",
      "INFO:root:Epoch[0] Batch [200]\tSpeed: 3419.24 samples/sec\tTrain-accuracy=0.832950\n",
      "INFO:root:Epoch[0] Batch [400]\tSpeed: 3490.91 samples/sec\tTrain-accuracy=0.877650\n",
      "INFO:root:Epoch[0] Batch [600]\tSpeed: 3426.45 samples/sec\tTrain-accuracy=0.894900\n",
      "INFO:root:Epoch[0] Resetting Data Iterator\n",
      "INFO:root:Epoch[0] Time cost=17.426\n",
      "INFO:root:Epoch[0] Validation-accuracy=0.900700\n",
      "INFO:root:Epoch[1] Batch [200]\tSpeed: 3159.85 samples/sec\tTrain-accuracy=0.899300\n",
      "INFO:root:Epoch[1] Batch [400]\tSpeed: 3886.74 samples/sec\tTrain-accuracy=0.897300\n",
      "INFO:root:Epoch[1] Batch [600]\tSpeed: 3306.96 samples/sec\tTrain-accuracy=0.906150\n",
      "INFO:root:Epoch[1] Resetting Data Iterator\n",
      "INFO:root:Epoch[1] Time cost=17.559\n",
      "INFO:root:Epoch[1] Validation-accuracy=0.909900\n",
      "INFO:root:Epoch[2] Batch [200]\tSpeed: 3479.74 samples/sec\tTrain-accuracy=0.907800\n",
      "INFO:root:Epoch[2] Batch [400]\tSpeed: 3511.62 samples/sec\tTrain-accuracy=0.904950\n",
      "INFO:root:Epoch[2] Batch [600]\tSpeed: 4087.77 samples/sec\tTrain-accuracy=0.911850\n",
      "INFO:root:Epoch[2] Resetting Data Iterator\n",
      "INFO:root:Epoch[2] Time cost=16.364\n",
      "INFO:root:Epoch[2] Validation-accuracy=0.913400\n",
      "INFO:root:Epoch[3] Batch [200]\tSpeed: 3445.74 samples/sec\tTrain-accuracy=0.911900\n",
      "INFO:root:Epoch[3] Batch [400]\tSpeed: 3475.73 samples/sec\tTrain-accuracy=0.909450\n",
      "INFO:root:Epoch[3] Batch [600]\tSpeed: 3348.92 samples/sec\tTrain-accuracy=0.915900\n",
      "INFO:root:Epoch[3] Resetting Data Iterator\n",
      "INFO:root:Epoch[3] Time cost=17.563\n",
      "INFO:root:Epoch[3] Validation-accuracy=0.915700\n",
      "INFO:root:Epoch[4] Batch [200]\tSpeed: 3420.78 samples/sec\tTrain-accuracy=0.914450\n",
      "INFO:root:Epoch[4] Batch [400]\tSpeed: 3290.77 samples/sec\tTrain-accuracy=0.911350\n",
      "INFO:root:Epoch[4] Batch [600]\tSpeed: 3324.71 samples/sec\tTrain-accuracy=0.917350\n",
      "INFO:root:Epoch[4] Resetting Data Iterator\n",
      "INFO:root:Epoch[4] Time cost=17.971\n",
      "INFO:root:Epoch[4] Validation-accuracy=0.917300\n",
      "INFO:root:Epoch[5] Batch [200]\tSpeed: 3476.03 samples/sec\tTrain-accuracy=0.915950\n",
      "INFO:root:Epoch[5] Batch [400]\tSpeed: 3383.70 samples/sec\tTrain-accuracy=0.913600\n",
      "INFO:root:Epoch[5] Batch [600]\tSpeed: 4146.79 samples/sec\tTrain-accuracy=0.918650\n",
      "INFO:root:Epoch[5] Resetting Data Iterator\n",
      "INFO:root:Epoch[5] Time cost=16.514\n",
      "INFO:root:Epoch[5] Validation-accuracy=0.918700\n",
      "INFO:root:Epoch[6] Batch [200]\tSpeed: 3461.05 samples/sec\tTrain-accuracy=0.917650\n",
      "INFO:root:Epoch[6] Batch [400]\tSpeed: 3486.48 samples/sec\tTrain-accuracy=0.914950\n",
      "INFO:root:Epoch[6] Batch [600]\tSpeed: 3430.89 samples/sec\tTrain-accuracy=0.919750\n",
      "INFO:root:Epoch[6] Resetting Data Iterator\n",
      "INFO:root:Epoch[6] Time cost=17.374\n",
      "INFO:root:Epoch[6] Validation-accuracy=0.920000\n",
      "INFO:root:Epoch[7] Batch [200]\tSpeed: 3565.68 samples/sec\tTrain-accuracy=0.919200\n",
      "INFO:root:Epoch[7] Batch [400]\tSpeed: 3761.48 samples/sec\tTrain-accuracy=0.916900\n",
      "INFO:root:Epoch[7] Batch [600]\tSpeed: 3454.39 samples/sec\tTrain-accuracy=0.920700\n",
      "INFO:root:Epoch[7] Resetting Data Iterator\n",
      "INFO:root:Epoch[7] Time cost=16.782\n",
      "INFO:root:Epoch[7] Validation-accuracy=0.920300\n",
      "INFO:root:Epoch[8] Batch [200]\tSpeed: 3381.18 samples/sec\tTrain-accuracy=0.920250\n",
      "INFO:root:Epoch[8] Batch [400]\tSpeed: 3621.56 samples/sec\tTrain-accuracy=0.918300\n",
      "INFO:root:Epoch[8] Batch [600]\tSpeed: 3454.68 samples/sec\tTrain-accuracy=0.921900\n",
      "INFO:root:Epoch[8] Resetting Data Iterator\n",
      "INFO:root:Epoch[8] Time cost=17.258\n",
      "INFO:root:Epoch[8] Validation-accuracy=0.920900\n",
      "INFO:root:Epoch[9] Batch [200]\tSpeed: 3481.38 samples/sec\tTrain-accuracy=0.920900\n",
      "INFO:root:Epoch[9] Batch [400]\tSpeed: 3425.45 samples/sec\tTrain-accuracy=0.919000\n",
      "INFO:root:Epoch[9] Batch [600]\tSpeed: 3448.97 samples/sec\tTrain-accuracy=0.922400\n",
      "INFO:root:Epoch[9] Resetting Data Iterator\n",
      "INFO:root:Epoch[9] Time cost=17.412\n",
      "INFO:root:Epoch[9] Validation-accuracy=0.920900\n"
     ]
    }
   ],
   "source": [
    "# @@@ AUTOTEST_OUTPUT_IGNORED_CELL\n",
    "import logging\n",
    "logging.getLogger().setLevel(logging.DEBUG)\n",
    "\n",
    "model = mx.model.FeedForward(\n",
    "    symbol = mlp,       # network structure\n",
    "    num_epoch = 10,     # number of data passes for training \n",
    "    learning_rate = 0.1 # learning rate of SGD \n",
    ")\n",
    "model.fit(\n",
    "    X=train_iter,       # training data\n",
    "    eval_data=val_iter, # validation data\n",
    "    batch_end_callback = mx.callback.Speedometer(batch_size, 200) # output progress for each 200 data batches\n",
    ")"
   ]
  },
  {
   "cell_type": "code",
   "execution_count": 73,
   "metadata": {
    "scrolled": false
   },
   "outputs": [
    {
     "data": {
      "image/png": "[encoded data removed]",
      "text/plain": [
       "<matplotlib.figure.Figure at 0x7faa61b13690>"
      ]
     },
     "metadata": {},
     "output_type": "display_data"
    },
    {
     "name": "stdout",
     "output_type": "stream",
     "text": [
      "predicted 7\n",
      "actual 7\n",
      "\n",
      "\n",
      "0 0.004554%\n",
      "1 0.000001%\n",
      "2 0.010959%\n",
      "3 0.288109%\n",
      "4 0.000169%\n",
      "5 0.002075%\n",
      "6 0.000002%\n",
      "7 99.651623%\n",
      "8 0.002606%\n",
      "9 0.039906%\n"
     ]
    }
   ],
   "source": [
    "idx = 0\n",
    "plt.imshow(val_img[idx], cmap='Greys_r')\n",
    "plt.axis('off')\n",
    "plt.show()\n",
    "\n",
    "test = mx.io.NDArrayIter(to4d(val_img)[idx], None, 1)\n",
    "predictions = model.predict(test)[0].tolist()\n",
    "print \"predicted {}\".format(predictions.index(max(predictions)))\n",
    "print \"actual {}\".format(val_lbl[idx])\n",
    "print \"\\n\"\n",
    "for i, v in enumerate(predictions):\n",
    "    print \"{} {:02f}%\".format(i, v * 100)\n"
   ]
  },
  {
   "cell_type": "code",
   "execution_count": 68,
   "metadata": {},
   "outputs": [
    {
     "name": "stdout",
     "output_type": "stream",
     "text": [
      "8\n",
      "33\n",
      "63\n",
      "66\n",
      "77\n",
      "92\n",
      "124\n",
      "149\n",
      "193\n",
      "195\n",
      "211\n",
      "217\n",
      "233\n",
      "241\n",
      "245\n",
      "247\n",
      "259\n",
      "290\n",
      "300\n",
      "307\n",
      "313\n",
      "318\n",
      "320\n",
      "321\n",
      "340\n",
      "341\n",
      "352\n",
      "359\n",
      "362\n",
      "381\n",
      "412\n",
      "435\n",
      "444\n",
      "445\n",
      "448\n",
      "449\n",
      "468\n",
      "469\n",
      "478\n",
      "479\n",
      "502\n",
      "507\n",
      "511\n",
      "531\n",
      "536\n",
      "542\n",
      "543\n",
      "551\n",
      "565\n",
      "569\n",
      "578\n",
      "582\n",
      "591\n",
      "613\n",
      "619\n",
      "627\n",
      "628\n",
      "629\n",
      "658\n",
      "659\n",
      "684\n",
      "691\n",
      "692\n",
      "707\n",
      "717\n",
      "720\n",
      "728\n",
      "738\n",
      "740\n",
      "741\n",
      "760\n",
      "781\n",
      "791\n",
      "839\n",
      "844\n",
      "857\n",
      "877\n",
      "881\n",
      "882\n",
      "898\n",
      "924\n",
      "938\n",
      "939\n",
      "947\n",
      "950\n",
      "956\n",
      "959\n",
      "965\n",
      "975\n",
      "982\n",
      "999\n"
     ]
    }
   ],
   "source": [
    "for idx in range(0, 1000):\n",
    "    test = mx.io.NDArrayIter(to4d(val_img)[idx], None, 1)\n",
    "    predictions = model.predict(test)[0].tolist()\n",
    "    maxed = predictions.index(max(predictions))\n",
    "    if not maxed == val_lbl[idx]:\n",
    "        print idx\n",
    "    \n"
   ]
  }
 ],
 "metadata": {
  "kernelspec": {
   "display_name": "Python 2",
   "language": "python",
   "name": "python2"
  },
  "language_info": {
   "codemirror_mode": {
    "name": "ipython",
    "version": 2
   },
   "file_extension": ".py",
   "mimetype": "text/x-python",
   "name": "python",
   "nbconvert_exporter": "python",
   "pygments_lexer": "ipython2",
   "version": "2.7.6"
  }
 },
 "nbformat": 4,
 "nbformat_minor": 2
}
