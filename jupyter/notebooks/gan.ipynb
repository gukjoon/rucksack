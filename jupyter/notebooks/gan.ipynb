{
 "cells": [
  {
   "cell_type": "code",
   "execution_count": 2,
   "metadata": {},
   "outputs": [],
   "source": [
    "import numpy as np\n",
    "import mxnet as mx\n",
    "import pandas as pd\n",
    "\n",
    "batch_size=5\n",
    "vec_size=1"
   ]
  },
  {
   "cell_type": "code",
   "execution_count": 5,
   "metadata": {
    "collapsed": true
   },
   "outputs": [],
   "source": [
    "def get_mnist():\n",
    "    mnist = fetch_mldata('MNIST original')\n",
    "    np.random.seed(1234) # set seed for deterministic ordering\n",
    "    p = np.random.permutation(mnist.data.shape[0])\n",
    "    X = mnist.data[p]\n",
    "    X = X.reshape((70000, 28, 28))\n",
    "\n",
    "    X = np.asarray([cv2.resize(x, (64,64)) for x in X])\n",
    "\n",
    "    X = X.astype(np.float32)/(255.0/2) - 1.0\n",
    "    X = X.reshape((70000, 1, 64, 64))\n",
    "    X = np.tile(X, (1, 3, 1, 1))\n",
    "    X_train = X[:60000]\n",
    "    X_test = X[60000:]\n",
    "\n",
    "    return X_train, X_test"
   ]
  },
  {
   "cell_type": "code",
   "execution_count": 4,
   "metadata": {
    "collapsed": true
   },
   "outputs": [],
   "source": [
    "def setup_gen_and_disc():\n",
    "    rand = mx.sym.Variable('rand')\n",
    "\n",
    "    generator = mx.sym.FullyConnected(data=rand, name='generator_0', num_hidden=30)\n",
    "#     generator.simple_bind(mx.cpu(), grad_req='null', generator_0_bias=np.array([14.7]))\n",
    "    generator = mx.sym.Activation(data=generator, act_type='tanh')\n",
    "#     generator = mx.sym.FullyConnected(data=generator, num_hidden=30)\n",
    "#     generator = mx.sym.Activation(data=generator, act_type='tanh')\n",
    "    generator = mx.sym.BlockGrad(generator)\n",
    "    generator = mx.sym.FullyConnected(data=generator, name='generator_2', num_hidden=vec_size)\n",
    "    gout = mx.sym.Activation(data=generator, act_type='sigmoid')\n",
    "    \n",
    "    data = mx.sym.Variable('data')\n",
    "    label = mx.sym.Variable('label')\n",
    "\n",
    "    disc = mx.sym.FullyConnected(data=data, name='discriminator_0', num_hidden=30)\n",
    "#     disc.simple_bind(mx.cpu(), grad_req='null')\n",
    "#     disc = mx.sym.Activation(data=disc, act_type='tanh')\n",
    "#     disc = mx.sym.FullyConnected(data=disc, name='discriminator_1', num_hidden=30)\n",
    "    disc = mx.sym.Activation(data=disc, act_type='tanh')\n",
    "    disc = mx.sym.BlockGrad(disc)\n",
    "    disc = mx.sym.FullyConnected(data=disc, name='discriminator_2', num_hidden=1)\n",
    "    dloss = mx.sym.LogisticRegressionOutput(data=disc, label=label, name='dloss')\n",
    "    \n",
    "    return gout, dloss\n",
    "\n",
    "symG, symD = setup_gen_and_disc()"
   ]
  },
  {
   "cell_type": "code",
   "execution_count": null,
   "metadata": {
    "collapsed": true
   },
   "outputs": [],
   "source": []
  }
 ],
 "metadata": {
  "kernelspec": {
   "display_name": "Python 2",
   "language": "python",
   "name": "python2"
  },
  "language_info": {
   "codemirror_mode": {
    "name": "ipython",
    "version": 2
   },
   "file_extension": ".py",
   "mimetype": "text/x-python",
   "name": "python",
   "nbconvert_exporter": "python",
   "pygments_lexer": "ipython2",
   "version": "2.7.6"
  }
 },
 "nbformat": 4,
 "nbformat_minor": 2
}
